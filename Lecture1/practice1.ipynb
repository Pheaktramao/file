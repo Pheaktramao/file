{
  "cells": [
    {
      "cell_type": "markdown",
      "metadata": {
        "id": "K2gAfQGWbuAY"
      },
      "source": [
        "### Tic-tac-toe<br>\n",
        "learning by reinforcement<br>\n",
        "Bernard Merialdo - June 2024"
      ]
    },
    {
      "cell_type": "code",
      "execution_count": 15,
      "metadata": {
        "id": "jbA0AfRAbuAm"
      },
      "outputs": [
        {
          "ename": "ModuleNotFoundError",
          "evalue": "No module named 'matplotlib'",
          "output_type": "error",
          "traceback": [
            "\u001b[1;31m---------------------------------------------------------------------------\u001b[0m",
            "\u001b[1;31mModuleNotFoundError\u001b[0m                       Traceback (most recent call last)",
            "Cell \u001b[1;32mIn[15], line 2\u001b[0m\n\u001b[0;32m      1\u001b[0m \u001b[38;5;28;01mimport\u001b[39;00m \u001b[38;5;21;01mrandom\u001b[39;00m\n\u001b[1;32m----> 2\u001b[0m \u001b[38;5;28;01mimport\u001b[39;00m \u001b[38;5;21;01mmatplotlib\u001b[39;00m\u001b[38;5;21;01m.\u001b[39;00m\u001b[38;5;21;01mpyplot\u001b[39;00m \u001b[38;5;28;01mas\u001b[39;00m \u001b[38;5;21;01mplt\u001b[39;00m\n",
            "\u001b[1;31mModuleNotFoundError\u001b[0m: No module named 'matplotlib'"
          ]
        }
      ],
      "source": [
        "import random\n",
        "import matplotlib.pyplot as plt"
      ]
    },
    {
      "cell_type": "markdown",
      "metadata": {
        "id": "vrn7u9Cw_QHH"
      },
      "source": [
        "**description of some data structures used **\n",
        "\n",
        "*   **board:** a string of 9 characters such as '..X.O...X'\n",
        "*   **player:** 'X' or 'O' X plays first\n",
        "*   **slot:** a number from 0 to 8 indicating the position on the board\n",
        "*   **valueO:** a dictionary of values of a given state of the board for player O,\n",
        "for example valuesO = {'.........':0, '..X.O...X':3}\n",
        "\n",
        "\n"
      ]
    },
    {
      "cell_type": "markdown",
      "metadata": {
        "id": "mUTeYCav-pVn"
      },
      "source": []
    },
    {
      "cell_type": "code",
      "execution_count": null,
      "metadata": {
        "id": "BMU1DVDmbuAo"
      },
      "outputs": [
        {
          "ename": "",
          "evalue": "",
          "output_type": "error",
          "traceback": [
            "\u001b[1;31mRunning cells with 'Python 3.12.0' requires the ipykernel package.\n",
            "\u001b[1;31mRun the following command to install 'ipykernel' into the Python environment. \n",
            "\u001b[1;31mCommand: 'c:/Users/PHEAKTRA.MAO/AppData/Local/Programs/Python/Python312/python.exe -m pip install ipykernel -U --user --force-reinstall'"
          ]
        }
      ],
      "source": [
        "#Commment the next line if you want different games each time you run the program\n",
        "random.seed(10)"
      ]
    },
    {
      "cell_type": "code",
      "execution_count": null,
      "metadata": {
        "id": "SUoyJyDYbuAo"
      },
      "outputs": [
        {
          "ename": "",
          "evalue": "",
          "output_type": "error",
          "traceback": [
            "\u001b[1;31mRunning cells with 'Python 3.12.0' requires the ipykernel package.\n",
            "\u001b[1;31mRun the following command to install 'ipykernel' into the Python environment. \n",
            "\u001b[1;31mCommand: 'c:/Users/PHEAKTRA.MAO/AppData/Local/Programs/Python/Python312/python.exe -m pip install ipykernel -U --user --force-reinstall'"
          ]
        }
      ],
      "source": [
        "# alpha is the learning coefficient<br>\n",
        "#alpha = 0.     # the player O is not learning, plays at random\n",
        "alpha = 0.1"
      ]
    },
    {
      "cell_type": "code",
      "execution_count": null,
      "metadata": {
        "id": "lPDXpP8wbuAp"
      },
      "outputs": [
        {
          "ename": "",
          "evalue": "",
          "output_type": "error",
          "traceback": [
            "\u001b[1;31mRunning cells with 'Python 3.12.0' requires the ipykernel package.\n",
            "\u001b[1;31mRun the following command to install 'ipykernel' into the Python environment. \n",
            "\u001b[1;31mCommand: 'c:/Users/PHEAKTRA.MAO/AppData/Local/Programs/Python/Python312/python.exe -m pip install ipykernel -U --user --force-reinstall'"
          ]
        }
      ],
      "source": [
        "def Win(board, player):\n",
        "    for line in [[0,1,2],[3,4,5],[6,7,8],[0,3,6],[1,4,7],[2,5,8],[0,4,8],[2,4,6]]:\n",
        "        if (board[line[0]]==player) and (board[line[1]]==player) and (board[line[2]]==player):\n",
        "            return True\n",
        "    return False\n",
        "\n",
        "def Empty_slots(board):\n",
        "    return [ x for x in range(len(board)) if board[x] == '.']\n",
        "\n",
        "def Board_after_play(board,player,slot):\n",
        "    return board[:slot] + player + board[slot + 1:]\n"
      ]
    },
    {
      "cell_type": "code",
      "execution_count": null,
      "metadata": {
        "id": "vK4IsdxubuAp"
      },
      "outputs": [
        {
          "ename": "",
          "evalue": "",
          "output_type": "error",
          "traceback": [
            "\u001b[1;31mRunning cells with 'Python 3.12.0' requires the ipykernel package.\n",
            "\u001b[1;31mRun the following command to install 'ipykernel' into the Python environment. \n",
            "\u001b[1;31mCommand: 'c:/Users/PHEAKTRA.MAO/AppData/Local/Programs/Python/Python312/python.exe -m pip install ipykernel -U --user --force-reinstall'"
          ]
        }
      ],
      "source": [
        "# This is the definition of PlayerX, by default it plays randomly\n",
        "def PlayerX(board):\n",
        "    return random.choice(Empty_slots(board))\n",
        "    # if you want to play against the computer, comment the previous line and uncomment the following line\n",
        "    # return Human_player(board)"
      ]
    },
    {
      "cell_type": "code",
      "execution_count": null,
      "metadata": {
        "id": "qK3XOpNYbuAp"
      },
      "outputs": [
        {
          "ename": "",
          "evalue": "",
          "output_type": "error",
          "traceback": [
            "\u001b[1;31mRunning cells with 'Python 3.12.0' requires the ipykernel package.\n",
            "\u001b[1;31mRun the following command to install 'ipykernel' into the Python environment. \n",
            "\u001b[1;31mCommand: 'c:/Users/PHEAKTRA.MAO/AppData/Local/Programs/Python/Python312/python.exe -m pip install ipykernel -U --user --force-reinstall'"
          ]
        }
      ],
      "source": [
        "# this is the definition of PlayerO, by default it learns from the games\n",
        "def PlayerO(board):\n",
        "    listslots = [slot for slot in Empty_slots(board) if Board_after_play(board,'O',slot) in valuesO.keys()]\n",
        "    values = [valuesO[Board_after_play(board,'O',slot)] for slot in listslots]\n",
        "    if random.randrange(len(Empty_slots(board))) < len(values):\n",
        "        return listslots[values.index(max(values))]\n",
        "    return random.choice(Empty_slots(board))"
      ]
    },
    {
      "cell_type": "code",
      "execution_count": null,
      "metadata": {
        "id": "EwWt7ybdbuAq"
      },
      "outputs": [
        {
          "ename": "",
          "evalue": "",
          "output_type": "error",
          "traceback": [
            "\u001b[1;31mRunning cells with 'Python 3.12.0' requires the ipykernel package.\n",
            "\u001b[1;31mRun the following command to install 'ipykernel' into the Python environment. \n",
            "\u001b[1;31mCommand: 'c:/Users/PHEAKTRA.MAO/AppData/Local/Programs/Python/Python312/python.exe -m pip install ipykernel -U --user --force-reinstall'"
          ]
        }
      ],
      "source": [
        "# This is a function that asks the next move to a human player\n",
        "# you can use it to modify the code and play against the computer\n",
        "def Human_player(board):\n",
        "    # display the current board\n",
        "    Print_board(board)\n",
        "    print('Where do you want X to play ?')\n",
        "    while True:\n",
        "        slot = int(input('Possible choices:'+str(Empty_slots(board))+':'))\n",
        "        if slot in Empty_slots(board):\n",
        "            return slot\n",
        "\n",
        "def Other_player(player):\n",
        "    if player == 'X':    return 'O'\n",
        "    else:                return 'X'"
      ]
    },
    {
      "cell_type": "code",
      "execution_count": null,
      "metadata": {
        "id": "SNGrJnbzbuAq"
      },
      "outputs": [
        {
          "ename": "",
          "evalue": "",
          "output_type": "error",
          "traceback": [
            "\u001b[1;31mRunning cells with 'Python 3.12.0' requires the ipykernel package.\n",
            "\u001b[1;31mRun the following command to install 'ipykernel' into the Python environment. \n",
            "\u001b[1;31mCommand: 'c:/Users/PHEAKTRA.MAO/AppData/Local/Programs/Python/Python312/python.exe -m pip install ipykernel -U --user --force-reinstall'"
          ]
        }
      ],
      "source": [
        "# this is the functions that learns by updating the values of the possible boards according to the result of the game\n",
        "def Update_valuesO(history,winner):\n",
        "    if winner == 'O':\n",
        "        reward = 1\n",
        "    elif winner == '':\n",
        "        reward = 0\n",
        "    else:\n",
        "        reward = -1\n",
        "    if history[-1] in valuesO:\n",
        "        valuesO[history[-1]] = 0\n",
        "    else:\n",
        "        valuesO[history[-1]] = 0\n",
        "    for ih in range(len(history)-2,-1,-1):\n",
        "        board = history[ih]\n",
        "        next_board = history[ih+1]\n",
        "        if board in valuesO.keys():\n",
        "            valuesO[board] += alpha * (valuesO[next_board] + reward - valuesO[board])\n",
        "        else:\n",
        "            valuesO[board] = alpha * (valuesO[next_board] + reward)\n"
      ]
    },
    {
      "cell_type": "code",
      "execution_count": null,
      "metadata": {
        "id": "6tOaXa_fbuAr"
      },
      "outputs": [
        {
          "ename": "",
          "evalue": "",
          "output_type": "error",
          "traceback": [
            "\u001b[1;31mRunning cells with 'Python 3.12.0' requires the ipykernel package.\n",
            "\u001b[1;31mRun the following command to install 'ipykernel' into the Python environment. \n",
            "\u001b[1;31mCommand: 'c:/Users/PHEAKTRA.MAO/AppData/Local/Programs/Python/Python312/python.exe -m pip install ipykernel -U --user --force-reinstall'"
          ]
        }
      ],
      "source": [
        "# these are the functions to save and load the values to and from a file\n",
        "def Save_values(values):\n",
        "    with open('values.txt','w') as f:\n",
        "        f.write('{')\n",
        "        for key, value in values.items():\n",
        "            f.write('\"%s\":%f,\\n' % (key,value))\n",
        "        f.write('}\\n')\n",
        "\n",
        "def Load_values(values):\n",
        "    s = open('values.txt', 'r').read()\n",
        "    values = eval(s)\n"
      ]
    },
    {
      "cell_type": "code",
      "execution_count": null,
      "metadata": {
        "id": "XbGO-kQobuAr"
      },
      "outputs": [
        {
          "ename": "",
          "evalue": "",
          "output_type": "error",
          "traceback": [
            "\u001b[1;31mRunning cells with 'Python 3.12.0' requires the ipykernel package.\n",
            "\u001b[1;31mRun the following command to install 'ipykernel' into the Python environment. \n",
            "\u001b[1;31mCommand: 'c:/Users/PHEAKTRA.MAO/AppData/Local/Programs/Python/Python312/python.exe -m pip install ipykernel -U --user --force-reinstall'"
          ]
        }
      ],
      "source": [
        "# This function prints the status of the board\n",
        "def Print_board(board):\n",
        "    print('   '+board[0]+' ! '+board[1]+' ! '+board[2])\n",
        "    print('  -----------')\n",
        "    print('   '+board[3]+' ! '+board[4]+' ! '+board[5])\n",
        "    print('  -----------')\n",
        "    print('   '+board[6]+' ! '+board[7]+' ! '+board[8])\n"
      ]
    },
    {
      "cell_type": "code",
      "execution_count": null,
      "metadata": {
        "id": "cQ5kYGv-buAr"
      },
      "outputs": [
        {
          "ename": "",
          "evalue": "",
          "output_type": "error",
          "traceback": [
            "\u001b[1;31mRunning cells with 'Python 3.12.0' requires the ipykernel package.\n",
            "\u001b[1;31mRun the following command to install 'ipykernel' into the Python environment. \n",
            "\u001b[1;31mCommand: 'c:/Users/PHEAKTRA.MAO/AppData/Local/Programs/Python/Python312/python.exe -m pip install ipykernel -U --user --force-reinstall'"
          ]
        }
      ],
      "source": [
        "############################################\n",
        "# start running the program from here\n",
        "\n",
        "number_of_games_won = {'X':[0], 'O':[0]}\n",
        "valuesO = {}"
      ]
    },
    {
      "cell_type": "code",
      "execution_count": null,
      "metadata": {
        "id": "n_uma66dbuAs"
      },
      "outputs": [
        {
          "ename": "",
          "evalue": "",
          "output_type": "error",
          "traceback": [
            "\u001b[1;31mRunning cells with 'Python 3.12.0' requires the ipykernel package.\n",
            "\u001b[1;31mRun the following command to install 'ipykernel' into the Python environment. \n",
            "\u001b[1;31mCommand: 'c:/Users/PHEAKTRA.MAO/AppData/Local/Programs/Python/Python312/python.exe -m pip install ipykernel -U --user --force-reinstall'"
          ]
        }
      ],
      "source": [
        "# uncomment next line if you want to read values that you saved before\n",
        "#Load_values(valuesO)"
      ]
    },
    {
      "cell_type": "code",
      "execution_count": null,
      "metadata": {
        "colab": {
          "base_uri": "https://localhost:8080/"
        },
        "id": "hvY8y9I8buAs",
        "outputId": "5ce6499d-edaf-4987-f1f2-e9158793debb"
      },
      "outputs": [
        {
          "ename": "",
          "evalue": "",
          "output_type": "error",
          "traceback": [
            "\u001b[1;31mRunning cells with 'Python 3.12.0' requires the ipykernel package.\n",
            "\u001b[1;31mRun the following command to install 'ipykernel' into the Python environment. \n",
            "\u001b[1;31mCommand: 'c:/Users/PHEAKTRA.MAO/AppData/Local/Programs/Python/Python312/python.exe -m pip install ipykernel -U --user --force-reinstall'"
          ]
        }
      ],
      "source": [
        "# play a number of games\n",
        "for game in range(2000):\n",
        "    player = 'X'\n",
        "    board = '.........'\n",
        "    history = [board]\n",
        "    winner = ''\n",
        "    for _ in range(9):\n",
        "        if player == 'X':\n",
        "            slot = PlayerX(board)\n",
        "        else:\n",
        "            slot = PlayerO(board)\n",
        "        board = Board_after_play(board,player,slot)\n",
        "        history.append(board)\n",
        "        if Win(board,player):\n",
        "            print('the winner of game',game,'is',player)\n",
        "            winner = player\n",
        "            number_of_games_won[player].append(number_of_games_won[player][-1]+1)\n",
        "            number_of_games_won[Other_player(player)].append(number_of_games_won[Other_player(player)][-1])\n",
        "            Update_valuesO(history,winner)\n",
        "            break\n",
        "\n",
        "        player = Other_player(player)\n",
        "    if winner == '':\n",
        "        Update_valuesO(history,'')"
      ]
    },
    {
      "cell_type": "code",
      "execution_count": null,
      "metadata": {
        "id": "2ggc0U-mbuAt"
      },
      "outputs": [
        {
          "ename": "",
          "evalue": "",
          "output_type": "error",
          "traceback": [
            "\u001b[1;31mRunning cells with 'Python 3.12.0' requires the ipykernel package.\n",
            "\u001b[1;31mRun the following command to install 'ipykernel' into the Python environment. \n",
            "\u001b[1;31mCommand: 'c:/Users/PHEAKTRA.MAO/AppData/Local/Programs/Python/Python312/python.exe -m pip install ipykernel -U --user --force-reinstall'"
          ]
        }
      ],
      "source": [
        "# uncomment the next 2 lines if you want to see the last board of the last game\n",
        "#print('last board of last game')\n",
        "#Print_board(board)"
      ]
    },
    {
      "cell_type": "code",
      "execution_count": null,
      "metadata": {
        "id": "pwMIfnr4buAu"
      },
      "outputs": [
        {
          "ename": "",
          "evalue": "",
          "output_type": "error",
          "traceback": [
            "\u001b[1;31mRunning cells with 'Python 3.12.0' requires the ipykernel package.\n",
            "\u001b[1;31mRun the following command to install 'ipykernel' into the Python environment. \n",
            "\u001b[1;31mCommand: 'c:/Users/PHEAKTRA.MAO/AppData/Local/Programs/Python/Python312/python.exe -m pip install ipykernel -U --user --force-reinstall'"
          ]
        }
      ],
      "source": [
        "# uncomment the next line if you want to save the values in a file\n",
        "#Save_values(valuesO)"
      ]
    },
    {
      "cell_type": "code",
      "execution_count": null,
      "metadata": {
        "colab": {
          "base_uri": "https://localhost:8080/"
        },
        "id": "Z-GqeLbYbuAu",
        "outputId": "92c66712-3e7d-4aa9-efb0-a9f3cfc823b3"
      },
      "outputs": [
        {
          "ename": "",
          "evalue": "",
          "output_type": "error",
          "traceback": [
            "\u001b[1;31mRunning cells with 'Python 3.12.0' requires the ipykernel package.\n",
            "\u001b[1;31mRun the following command to install 'ipykernel' into the Python environment. \n",
            "\u001b[1;31mCommand: 'c:/Users/PHEAKTRA.MAO/AppData/Local/Programs/Python/Python312/python.exe -m pip install ipykernel -U --user --force-reinstall'"
          ]
        }
      ],
      "source": [
        "# display the number of games won by each player\n",
        "for player in ['X','O']:\n",
        "    print(player,'won',number_of_games_won[player][-1],'games')"
      ]
    },
    {
      "cell_type": "code",
      "execution_count": null,
      "metadata": {
        "colab": {
          "base_uri": "https://localhost:8080/",
          "height": 472
        },
        "id": "XgoYcfmrbuAv",
        "outputId": "c1633331-344b-46ca-96da-e8d37da96613"
      },
      "outputs": [
        {
          "ename": "",
          "evalue": "",
          "output_type": "error",
          "traceback": [
            "\u001b[1;31mRunning cells with 'Python 3.12.0' requires the ipykernel package.\n",
            "\u001b[1;31mRun the following command to install 'ipykernel' into the Python environment. \n",
            "\u001b[1;31mCommand: 'c:/Users/PHEAKTRA.MAO/AppData/Local/Programs/Python/Python312/python.exe -m pip install ipykernel -U --user --force-reinstall'"
          ]
        }
      ],
      "source": [
        "# The following code plots the number of games won by each player after iterations\n",
        "plt.plot(number_of_games_won['X'],label='X')\n",
        "plt.plot(number_of_games_won['O'],label='O')\n",
        "plt.legend()\n",
        "plt.xlabel('Number of games')\n",
        "plt.ylabel('Number of wins')\n",
        "plt.title('learning_rate='+str(alpha))\n",
        "plt.show()"
      ]
    }
  ],
  "metadata": {
    "colab": {
      "provenance": []
    },
    "kernelspec": {
      "display_name": "Python 3 (ipykernel)",
      "language": "python",
      "name": "python3"
    },
    "language_info": {
      "codemirror_mode": {
        "name": "ipython",
        "version": 3
      },
      "file_extension": ".py",
      "mimetype": "text/x-python",
      "name": "python",
      "nbconvert_exporter": "python",
      "pygments_lexer": "ipython3",
      "version": "3.12.0"
    }
  },
  "nbformat": 4,
  "nbformat_minor": 0
}
